{
 "cells": [
  {
   "cell_type": "markdown",
   "id": "1bdf748a-1807-4094-a5d0-b9f1e6cc62ef",
   "metadata": {},
   "source": [
    "# dask.bag and dask.dataframe\n",
    "\n",
    "The standard imports for `dask.bag` and `dask.dataframe` are `db` and `dd`, respectively."
   ]
  },
  {
   "cell_type": "code",
   "execution_count": 1,
   "id": "d28b2625-95d5-4669-9f25-2fbf5517b9a9",
   "metadata": {},
   "outputs": [],
   "source": [
    "from distributed import Client\n",
    "client = Client(\"127.0.0.1:53731\")"
   ]
  },
  {
   "cell_type": "code",
   "execution_count": 2,
   "id": "ff87f121-82a6-456e-82eb-ee6060cb92bb",
   "metadata": {},
   "outputs": [],
   "source": [
    "import dask.bag as db\n",
    "import dask.dataframe as dd"
   ]
  },
  {
   "cell_type": "markdown",
   "id": "25d5edcb-4731-45e9-8405-ddc72a50c020",
   "metadata": {},
   "source": [
    "The simplest bag example possible:"
   ]
  },
  {
   "cell_type": "code",
   "execution_count": 3,
   "id": "85a22c4b-9a4a-4e88-a8bd-0d200dc88edc",
   "metadata": {},
   "outputs": [],
   "source": [
    "bag = db.from_sequence([1, 2, 3, 4, 5, 6], npartitions=2)"
   ]
  },
  {
   "cell_type": "code",
   "execution_count": 4,
   "id": "64e93556-8406-4b53-9f85-8904fec7ab3b",
   "metadata": {},
   "outputs": [],
   "source": [
    "evens_squared = bag.filter(lambda x: x % 2 == 0).map(lambda x: x ** 2)"
   ]
  },
  {
   "cell_type": "code",
   "execution_count": 5,
   "id": "6f8a8348-4e01-4f6f-891d-63613dde56fa",
   "metadata": {},
   "outputs": [
    {
     "data": {
      "text/plain": [
       "[4, 16, 36]"
      ]
     },
     "execution_count": 5,
     "metadata": {},
     "output_type": "execute_result"
    }
   ],
   "source": [
    "evens_squared.compute()"
   ]
  },
  {
   "cell_type": "markdown",
   "id": "183d8716-47c2-44d4-8211-052869398360",
   "metadata": {
    "tags": []
   },
   "source": [
    "Let's look at something a bit more interesting, some US Federal Election Commission political campaign contribution data stored in a number of plain text files."
   ]
  },
  {
   "cell_type": "code",
   "execution_count": 6,
   "id": "fa1cc229-dc3c-47d2-9dbe-98b49dbef6c3",
   "metadata": {
    "tags": []
   },
   "outputs": [
    {
     "data": {
      "text/plain": [
       "['CMTE_ID',\n",
       " 'AMNDT_IND',\n",
       " 'RPT_TP',\n",
       " 'TRANSACTION_PGI',\n",
       " 'IMAGE_NUM',\n",
       " 'TRANSACTION_TP',\n",
       " 'ENTITY_TP',\n",
       " 'NAME',\n",
       " 'CITY',\n",
       " 'STATE',\n",
       " 'ZIP_CODE',\n",
       " 'EMPLOYER',\n",
       " 'OCCUPATION',\n",
       " 'TRANSACTION_DT',\n",
       " 'TRANSACTION_AMT',\n",
       " 'OTHER_ID',\n",
       " 'TRAN_ID',\n",
       " 'FILE_NUM',\n",
       " 'MEMO_CD',\n",
       " 'MEMO_TEXT',\n",
       " 'SUB_ID']"
      ]
     },
     "execution_count": 6,
     "metadata": {},
     "output_type": "execute_result"
    }
   ],
   "source": [
    "from pathlib import Path\n",
    "columns = Path(\"data/fec/columns.csv\").read_text().strip().split(\",\")\n",
    "columns"
   ]
  },
  {
   "cell_type": "code",
   "execution_count": 7,
   "id": "44559c92-1a6d-4823-888e-f84453187648",
   "metadata": {
    "tags": []
   },
   "outputs": [
    {
     "name": "stdout",
     "output_type": "stream",
     "text": [
      "C00649350|N|12G|G2020|202010229332727473|15E|IND|KATZMAN, STEVE|AUSTIN|TX|787235388|NOT EMPLOYED|RETIRED|10042020|25|C00401224|VTR3QW8HJN8|1461945||* EARMARKED CONTRIBUTION: SEE BELOW|4120920201967258537\n",
      "C00649350|N|12G|G2020|202010229332727474|15E|IND|DICKEY, HELEN|EL CERRITO|CA|945304151|NOT EMPLOYED|RETIRED|10042020|15|C00401224|VTR3QW8HQN8|1461945||* EARMARKED CONTRIBUTION: SEE BELOW|4120920201967258539\n",
      "C00649350|N|12G|G2020|202010229332724034|15E|IND|ROBINSON, LINDA P|BEAUMONT|TX|777067415|NOT EMPLOYED|RETIRED|10032020|200|C00401224|VTR3QW8BK23|1461945||* EARMARKED CONTRIBUTION: SEE BELOW|4120920201967248221\n"
     ]
    }
   ],
   "source": [
    "!head -n 3 data/fec/contributions/d100.txt"
   ]
  },
  {
   "cell_type": "markdown",
   "id": "05049eb9-9b7d-4950-9cd5-24e4e4fca7af",
   "metadata": {},
   "source": [
    "We'll create a bag by:\n",
    "- reading the text files (with `read_text`),\n",
    "- doing a bit of per-line processing (with `map`),\n",
    "- and limit the dataset to Atlanta, GA (with `filter`)."
   ]
  },
  {
   "cell_type": "code",
   "execution_count": 8,
   "id": "9f8a5df0-6e6f-4f3f-9de0-eff8c878ab4c",
   "metadata": {
    "tags": []
   },
   "outputs": [],
   "source": [
    "bag = (db.read_text(\"data/fec/contributions/*\")\n",
    "         .map(lambda x: {k: v for k, v in zip(columns, x.split(\"|\"))})\n",
    "         .filter(lambda x: x[\"STATE\"] == \"GA\" and x[\"CITY\"] == \"ATLANTA\"))"
   ]
  },
  {
   "cell_type": "markdown",
   "id": "f5e973c9-6226-435e-a848-f7871e9e0e7b",
   "metadata": {},
   "source": [
    "A look at the most frequent donation:"
   ]
  },
  {
   "cell_type": "code",
   "execution_count": 9,
   "id": "31819007-364f-464e-ae1d-7e1edc9f4777",
   "metadata": {
    "tags": []
   },
   "outputs": [],
   "source": [
    "freqs = bag.map(lambda x: x[\"TRANSACTION_AMT\"]).frequencies(sort=True)"
   ]
  },
  {
   "cell_type": "code",
   "execution_count": 10,
   "id": "8e9158ec-13e2-4c04-923c-83ecc9235454",
   "metadata": {
    "tags": []
   },
   "outputs": [
    {
     "data": {
      "text/plain": [
       "(('25', 5042),\n",
       " ('50', 4145),\n",
       " ('100', 3964),\n",
       " ('10', 2358),\n",
       " ('250', 2142),\n",
       " ('15', 2036),\n",
       " ('5', 1729),\n",
       " ('20', 1597),\n",
       " ('500', 1057),\n",
       " ('35', 615))"
      ]
     },
     "execution_count": 10,
     "metadata": {},
     "output_type": "execute_result"
    }
   ],
   "source": [
    "freqs.take(10)"
   ]
  },
  {
   "cell_type": "markdown",
   "id": "57b07110-db29-4353-84a7-cdf9a3f58745",
   "metadata": {},
   "source": [
    "We can convert the existing bag to a dataframe so we can take advantage of both the pandas-like API and the pandas-backend performance."
   ]
  },
  {
   "cell_type": "code",
   "execution_count": 11,
   "id": "ba2257fe-325f-47fe-a84f-716776db34a2",
   "metadata": {
    "tags": []
   },
   "outputs": [],
   "source": [
    "df = bag.to_dataframe(columns=columns)"
   ]
  },
  {
   "cell_type": "markdown",
   "id": "7508e1f2-00e9-4778-8f4b-a0b1c5364f28",
   "metadata": {},
   "source": [
    "We can see what the average contribution is in Atlanta:"
   ]
  },
  {
   "cell_type": "code",
   "execution_count": 12,
   "id": "ed34458a-eb66-4355-b37d-bc7a7efc7057",
   "metadata": {},
   "outputs": [
    {
     "ename": "ValueError",
     "evalue": "`mean` not supported with object series",
     "output_type": "error",
     "traceback": [
      "\u001b[0;31m---------------------------------------------------------------------------\u001b[0m",
      "\u001b[0;31mValueError\u001b[0m                                Traceback (most recent call last)",
      "\u001b[0;32m/var/folders/nl/dzr5w2zn6f70bhlvqn3qgrv40000gp/T/ipykernel_21339/330344926.py\u001b[0m in \u001b[0;36m<module>\u001b[0;34m\u001b[0m\n\u001b[0;32m----> 1\u001b[0;31m \u001b[0mdf\u001b[0m\u001b[0;34m.\u001b[0m\u001b[0mTRANSACTION_AMT\u001b[0m\u001b[0;34m.\u001b[0m\u001b[0mmean\u001b[0m\u001b[0;34m(\u001b[0m\u001b[0;34m)\u001b[0m\u001b[0;34m\u001b[0m\u001b[0;34m\u001b[0m\u001b[0m\n\u001b[0m",
      "\u001b[0;32m~/software/anaconda3/envs/webinar/lib/python3.9/site-packages/dask/dataframe/core.py\u001b[0m in \u001b[0;36mmean\u001b[0;34m(self, axis, skipna, split_every, dtype, out)\u001b[0m\n\u001b[1;32m   1865\u001b[0m     \u001b[0;32mdef\u001b[0m \u001b[0mmean\u001b[0m\u001b[0;34m(\u001b[0m\u001b[0mself\u001b[0m\u001b[0;34m,\u001b[0m \u001b[0maxis\u001b[0m\u001b[0;34m=\u001b[0m\u001b[0;32mNone\u001b[0m\u001b[0;34m,\u001b[0m \u001b[0mskipna\u001b[0m\u001b[0;34m=\u001b[0m\u001b[0;32mTrue\u001b[0m\u001b[0;34m,\u001b[0m \u001b[0msplit_every\u001b[0m\u001b[0;34m=\u001b[0m\u001b[0;32mFalse\u001b[0m\u001b[0;34m,\u001b[0m \u001b[0mdtype\u001b[0m\u001b[0;34m=\u001b[0m\u001b[0;32mNone\u001b[0m\u001b[0;34m,\u001b[0m \u001b[0mout\u001b[0m\u001b[0;34m=\u001b[0m\u001b[0;32mNone\u001b[0m\u001b[0;34m)\u001b[0m\u001b[0;34m:\u001b[0m\u001b[0;34m\u001b[0m\u001b[0;34m\u001b[0m\u001b[0m\n\u001b[1;32m   1866\u001b[0m         \u001b[0maxis\u001b[0m \u001b[0;34m=\u001b[0m \u001b[0mself\u001b[0m\u001b[0;34m.\u001b[0m\u001b[0m_validate_axis\u001b[0m\u001b[0;34m(\u001b[0m\u001b[0maxis\u001b[0m\u001b[0;34m)\u001b[0m\u001b[0;34m\u001b[0m\u001b[0;34m\u001b[0m\u001b[0m\n\u001b[0;32m-> 1867\u001b[0;31m         \u001b[0m_raise_if_object_series\u001b[0m\u001b[0;34m(\u001b[0m\u001b[0mself\u001b[0m\u001b[0;34m,\u001b[0m \u001b[0;34m\"mean\"\u001b[0m\u001b[0;34m)\u001b[0m\u001b[0;34m\u001b[0m\u001b[0;34m\u001b[0m\u001b[0m\n\u001b[0m\u001b[1;32m   1868\u001b[0m         \u001b[0mmeta\u001b[0m \u001b[0;34m=\u001b[0m \u001b[0mself\u001b[0m\u001b[0;34m.\u001b[0m\u001b[0m_meta_nonempty\u001b[0m\u001b[0;34m.\u001b[0m\u001b[0mmean\u001b[0m\u001b[0;34m(\u001b[0m\u001b[0maxis\u001b[0m\u001b[0;34m=\u001b[0m\u001b[0maxis\u001b[0m\u001b[0;34m,\u001b[0m \u001b[0mskipna\u001b[0m\u001b[0;34m=\u001b[0m\u001b[0mskipna\u001b[0m\u001b[0;34m)\u001b[0m\u001b[0;34m\u001b[0m\u001b[0;34m\u001b[0m\u001b[0m\n\u001b[1;32m   1869\u001b[0m         \u001b[0;32mif\u001b[0m \u001b[0maxis\u001b[0m \u001b[0;34m==\u001b[0m \u001b[0;36m1\u001b[0m\u001b[0;34m:\u001b[0m\u001b[0;34m\u001b[0m\u001b[0;34m\u001b[0m\u001b[0m\n",
      "\u001b[0;32m~/software/anaconda3/envs/webinar/lib/python3.9/site-packages/dask/dataframe/core.py\u001b[0m in \u001b[0;36m_raise_if_object_series\u001b[0;34m(x, funcname)\u001b[0m\n\u001b[1;32m   2958\u001b[0m     \"\"\"\n\u001b[1;32m   2959\u001b[0m     \u001b[0;32mif\u001b[0m \u001b[0misinstance\u001b[0m\u001b[0;34m(\u001b[0m\u001b[0mx\u001b[0m\u001b[0;34m,\u001b[0m \u001b[0mSeries\u001b[0m\u001b[0;34m)\u001b[0m \u001b[0;32mand\u001b[0m \u001b[0mhasattr\u001b[0m\u001b[0;34m(\u001b[0m\u001b[0mx\u001b[0m\u001b[0;34m,\u001b[0m \u001b[0;34m\"dtype\"\u001b[0m\u001b[0;34m)\u001b[0m \u001b[0;32mand\u001b[0m \u001b[0mx\u001b[0m\u001b[0;34m.\u001b[0m\u001b[0mdtype\u001b[0m \u001b[0;34m==\u001b[0m \u001b[0mobject\u001b[0m\u001b[0;34m:\u001b[0m\u001b[0;34m\u001b[0m\u001b[0;34m\u001b[0m\u001b[0m\n\u001b[0;32m-> 2960\u001b[0;31m         \u001b[0;32mraise\u001b[0m \u001b[0mValueError\u001b[0m\u001b[0;34m(\u001b[0m\u001b[0;34m\"`%s` not supported with object series\"\u001b[0m \u001b[0;34m%\u001b[0m \u001b[0mfuncname\u001b[0m\u001b[0;34m)\u001b[0m\u001b[0;34m\u001b[0m\u001b[0;34m\u001b[0m\u001b[0m\n\u001b[0m\u001b[1;32m   2961\u001b[0m \u001b[0;34m\u001b[0m\u001b[0m\n\u001b[1;32m   2962\u001b[0m \u001b[0;34m\u001b[0m\u001b[0m\n",
      "\u001b[0;31mValueError\u001b[0m: `mean` not supported with object series"
     ]
    }
   ],
   "source": [
    "df.TRANSACTION_AMT.mean()"
   ]
  },
  {
   "cell_type": "markdown",
   "id": "891ad1cf-d17d-4f25-b006-946c48743384",
   "metadata": {},
   "source": [
    "Ah, well that didn't work. Let's use our pandas-like API for some help:"
   ]
  },
  {
   "cell_type": "code",
   "execution_count": 13,
   "id": "932e76e2-7a7e-46c6-ad5a-9691c179fb6c",
   "metadata": {
    "tags": []
   },
   "outputs": [],
   "source": [
    "ta = dd.to_numeric(df.TRANSACTION_AMT, errors=\"coerce\")"
   ]
  },
  {
   "cell_type": "markdown",
   "id": "63b125a0-a521-4acf-8a2b-627e0fb00dfe",
   "metadata": {},
   "source": [
    "Using `persist` instead of `compute` will force the result of the computation to persist in memory, allowing for more performant repeated use."
   ]
  },
  {
   "cell_type": "code",
   "execution_count": 14,
   "id": "f4b39e2e-55ab-4832-92ea-7db8e00037ed",
   "metadata": {},
   "outputs": [],
   "source": [
    "ta = ta.persist()"
   ]
  },
  {
   "cell_type": "code",
   "execution_count": 15,
   "id": "e9214031-ac81-4e59-b9d9-e644bee156a6",
   "metadata": {},
   "outputs": [
    {
     "data": {
      "text/plain": [
       "144.37462531351318"
      ]
     },
     "execution_count": 15,
     "metadata": {},
     "output_type": "execute_result"
    }
   ],
   "source": [
    "ta = ta[(ta > 0) & (ta < 20000)]\n",
    "ta.mean().compute()"
   ]
  },
  {
   "cell_type": "code",
   "execution_count": 16,
   "id": "4feabe97-4489-47b8-8c14-8e65e848026c",
   "metadata": {
    "tags": []
   },
   "outputs": [
    {
     "data": {
      "text/plain": [
       "675.0737267880126"
      ]
     },
     "execution_count": 16,
     "metadata": {},
     "output_type": "execute_result"
    }
   ],
   "source": [
    "ta[ta > 150].mean().compute()"
   ]
  },
  {
   "cell_type": "code",
   "execution_count": 17,
   "id": "48d49e99-e106-44fa-953b-f34f41425566",
   "metadata": {
    "tags": []
   },
   "outputs": [
    {
     "data": {
      "image/png": "[encoded data removed]",
      "text/plain": [
       "<Figure size 432x288 with 1 Axes>"
      ]
     },
     "metadata": {
      "needs_background": "light"
     },
     "output_type": "display_data"
    }
   ],
   "source": [
    "import matplotlib.pyplot as plt\n",
    "n, bins, pathes = plt.hist(ta[ta < 200].to_dask_array().compute(), bins=50)"
   ]
  },
  {
   "cell_type": "code",
   "execution_count": 18,
   "id": "5c58b0cd-e5dd-448a-a483-c09b3f1a9815",
   "metadata": {
    "tags": []
   },
   "outputs": [
    {
     "data": {
      "text/plain": [
       "25     5042\n",
       "50     4145\n",
       "100    3964\n",
       "10     2358\n",
       "250    2142\n",
       "15     2036\n",
       "5      1729\n",
       "20     1597\n",
       "500    1057\n",
       "35      615\n",
       "Name: TRANSACTION_AMT, dtype: int64"
      ]
     },
     "execution_count": 18,
     "metadata": {},
     "output_type": "execute_result"
    }
   ],
   "source": [
    "ta.value_counts().nlargest(10).compute()"
   ]
  },
  {
   "cell_type": "code",
   "execution_count": null,
   "id": "39ba33e5-6cb2-4ee7-910a-3e0ebcfec73e",
   "metadata": {},
   "outputs": [],
   "source": []
  }
 ],
 "metadata": {
  "kernelspec": {
   "display_name": "Python 3 (ipykernel)",
   "language": "python",
   "name": "python3"
  },
  "language_info": {
   "codemirror_mode": {
    "name": "ipython",
    "version": 3
   },
   "file_extension": ".py",
   "mimetype": "text/x-python",
   "name": "python",
   "nbconvert_exporter": "python",
   "pygments_lexer": "ipython3",
   "version": "3.9.6"
  }
 },
 "nbformat": 4,
 "nbformat_minor": 5
}
